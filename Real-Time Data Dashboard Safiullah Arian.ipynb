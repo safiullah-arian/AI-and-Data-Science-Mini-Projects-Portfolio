{
 "cells": [
  {
   "cell_type": "code",
   "execution_count": 2,
   "id": "bce756b1-3230-4991-a7f1-47a3b125e427",
   "metadata": {},
   "outputs": [],
   "source": [
    "import yfinance as yf\n",
    "import pandas as pd"
   ]
  },
  {
   "cell_type": "code",
   "execution_count": 3,
   "id": "91bb2c4b-bd8d-412f-a34c-a61f877e36a3",
   "metadata": {},
   "outputs": [],
   "source": [
    "# Define a function to fetch stock data\n",
    "def fetch_data(ticker):\n",
    "    stock_data = yf.download(ticker, period=\"1d\", interval=\"1m\")\n",
    "    return stock_data\n"
   ]
  },
  {
   "cell_type": "code",
   "execution_count": 4,
   "id": "74b38268-a256-4aab-bee1-db460b495ca3",
   "metadata": {},
   "outputs": [],
   "source": [
    "def clean_data(df):\n",
    "    df = df.fillna(method='ffill')  # Forward fill to handle missing values\n",
    "    return df\n"
   ]
  },
  {
   "cell_type": "code",
   "execution_count": null,
   "id": "08057a28-1f57-4097-8cbd-79778f0a0987",
   "metadata": {},
   "outputs": [],
   "source": []
  },
  {
   "cell_type": "code",
   "execution_count": 5,
   "id": "009be038-f965-4a3e-a1c6-a868047c35bc",
   "metadata": {},
   "outputs": [],
   "source": [
    "from dash import Dash, dcc, html\n",
    "from dash.dependencies import Input, Output\n",
    "import plotly.graph_objs as go\n",
    "import time"
   ]
  },
  {
   "cell_type": "code",
   "execution_count": 6,
   "id": "3cbeb05e-3f3f-4a42-a007-5935f096b80c",
   "metadata": {},
   "outputs": [],
   "source": [
    "from dash import Dash, dcc, html\n",
    "from dash.dependencies import Input, Output\n",
    "import plotly.graph_objs as go\n",
    "import time\n",
    "\n",
    "app = Dash(__name__)\n",
    "\n",
    "app.layout = html.Div([\n",
    "    dcc.Dropdown(\n",
    "        id='stock-dropdown',\n",
    "        options=[\n",
    "            {'label': 'Apple', 'value': 'AAPL'},\n",
    "            {'label': 'Google', 'value': 'GOOGL'},\n",
    "            {'label': 'Amazon', 'value': 'AMZN'},\n",
    "        ],\n",
    "        value='AAPL'\n",
    "    ),\n",
    "    dcc.Graph(id='live-graph'),\n",
    "    dcc.Interval(id='interval-component', interval=1*60000)  # Update every minute\n",
    "])\n",
    "\n",
    "@app.callback(\n",
    "    Output('live-graph', 'figure'),\n",
    "    Input('stock-dropdown', 'value'),\n",
    "    Input('interval-component', 'n_intervals')\n",
    ")\n",
    "def update_graph(selected_stock, n):\n",
    "    df = fetch_data(selected_stock)\n",
    "    df = clean_data(df)\n",
    "    \n",
    "    fig = go.Figure()\n",
    "    fig.add_trace(go.Scatter(x=df.index, y=df['Close'], mode='lines+markers', name='Close Price'))\n",
    "    fig.update_layout(title=f'Live Stock Price of {selected_stock}', xaxis_title='Time', yaxis_title='Price (USD)')\n",
    "    \n",
    "    return fig\n"
   ]
  },
  {
   "cell_type": "code",
   "execution_count": 8,
   "id": "c7867a91-c9e7-4146-8aa2-fe5b913b645f",
   "metadata": {},
   "outputs": [
    {
     "data": {
      "text/html": [
       "\n",
       "        <iframe\n",
       "            width=\"100%\"\n",
       "            height=\"650\"\n",
       "            src=\"http://127.0.0.1:8052/\"\n",
       "            frameborder=\"0\"\n",
       "            allowfullscreen\n",
       "            \n",
       "        ></iframe>\n",
       "        "
      ],
      "text/plain": [
       "<IPython.lib.display.IFrame at 0x1b0d7656fa0>"
      ]
     },
     "metadata": {},
     "output_type": "display_data"
    },
    {
     "name": "stderr",
     "output_type": "stream",
     "text": [
      "[*********************100%***********************]  1 of 1 completed\n",
      "[*********************100%***********************]  1 of 1 completed\n",
      "[*********************100%***********************]  1 of 1 completed\n",
      "[*********************100%***********************]  1 of 1 completed\n",
      "[*********************100%***********************]  1 of 1 completed\n"
     ]
    }
   ],
   "source": [
    "if __name__ == '__main__':\n",
    "    app.run_server(debug=True, port=8052)\n"
   ]
  },
  {
   "cell_type": "code",
   "execution_count": null,
   "id": "f5bb35a0-b829-46c6-b282-5817c87b9846",
   "metadata": {},
   "outputs": [],
   "source": []
  }
 ],
 "metadata": {
  "kernelspec": {
   "display_name": "Python 3 (ipykernel)",
   "language": "python",
   "name": "python3"
  },
  "language_info": {
   "codemirror_mode": {
    "name": "ipython",
    "version": 3
   },
   "file_extension": ".py",
   "mimetype": "text/x-python",
   "name": "python",
   "nbconvert_exporter": "python",
   "pygments_lexer": "ipython3",
   "version": "3.8.19"
  }
 },
 "nbformat": 4,
 "nbformat_minor": 5
}
