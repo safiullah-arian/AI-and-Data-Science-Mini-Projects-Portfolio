{
 "cells": [
  {
   "cell_type": "code",
   "execution_count": 1,
   "id": "80cfc47f-614d-47f8-84d3-95c818657d48",
   "metadata": {},
   "outputs": [],
   "source": [
    "import dash\n",
    "from dash import dcc, html\n",
    "import pandas as pd\n",
    "import requests\n",
    "import plotly.graph_objs as go\n",
    "from dash.dependencies import Input, Output\n",
    "import time"
   ]
  },
  {
   "cell_type": "code",
   "execution_count": 2,
   "id": "ab77ebf6-0fa3-4840-975e-b7199a5df42a",
   "metadata": {},
   "outputs": [],
   "source": [
    "app = dash.Dash(__name__)"
   ]
  },
  {
   "cell_type": "code",
   "execution_count": 3,
   "id": "35eec1f3-a8d8-4a79-90aa-91d136305e2f",
   "metadata": {},
   "outputs": [],
   "source": [
    "app.layout = html.Div([\n",
    "    html.H1(\"Real-Time Stock Price Dashboard\"),\n",
    "    dcc.Dropdown(\n",
    "        id='stock-dropdown',\n",
    "        options=[\n",
    "            {'label': 'Apple', 'value': 'AAPL'},\n",
    "            {'label': 'Google', 'value': 'GOOGL'},\n",
    "            {'label': 'Amazon', 'value': 'AMZN'}\n",
    "        ],\n",
    "        value='AAPL'\n",
    "    ),\n",
    "    dcc.Graph(id='live-graph'),\n",
    "    dcc.Interval(\n",
    "        id='interval-component',\n",
    "        interval=10*1000,  # in milliseconds\n",
    "        n_intervals=0\n",
    "    )\n",
    "])"
   ]
  },
  {
   "cell_type": "code",
   "execution_count": 4,
   "id": "e7cfe948-e34a-4c14-84d8-aa1306ab839e",
   "metadata": {},
   "outputs": [],
   "source": [
    "def fetch_stock_data(symbol):\n",
    "    api_key = 'YOUR_API_KEY'  # Replace with your Alpha Vantage API key\n",
    "    url = f'https://www.alphavantage.co/query?function=TIME_SERIES_INTRADAY&symbol={symbol}&interval=1min&apikey={api_key}'\n",
    "    response = requests.get(url)\n",
    "    data = response.json()\n",
    "    return data"
   ]
  },
  {
   "cell_type": "code",
   "execution_count": 6,
   "id": "f42e44ef-ddf8-4920-a27e-0b3723dc7bed",
   "metadata": {},
   "outputs": [],
   "source": [
    "@app.callback(\n",
    "    Output('live-graph', 'figure'),\n",
    "    [Input('stock-dropdown', 'value'),\n",
    "     Input('interval-component', 'n_intervals')]\n",
    ")\n",
    "def update_graph(selected_stock, n):\n",
    "    data = fetch_stock_data(selected_stock)\n",
    "    time_series = data['Time Series (1min)']\n",
    "\n",
    "    # Prepare data for plotting\n",
    "    times = list(time_series.keys())\n",
    "    prices = [float(time_series[time]['1. open']) for time in times]\n",
    "\n",
    "    # Create the figure\n",
    "    figure = go.Figure()\n",
    "    figure.add_trace(go.Scatter(x=times, y=prices, mode='lines+markers', name=selected_stock))\n",
    "    figure.update_layout(title=f'Real-Time Stock Price for {selected_stock}', xaxis_title='Time', yaxis_title='Price (USD)')\n",
    "\n",
    "    return figure"
   ]
  },
  {
   "cell_type": "code",
   "execution_count": 7,
   "id": "1b19d83b-a523-4151-8eac-f583797e5219",
   "metadata": {},
   "outputs": [
    {
     "data": {
      "text/html": [
       "\n",
       "        <iframe\n",
       "            width=\"100%\"\n",
       "            height=\"650\"\n",
       "            src=\"http://127.0.0.1:8050/\"\n",
       "            frameborder=\"0\"\n",
       "            allowfullscreen\n",
       "            \n",
       "        ></iframe>\n",
       "        "
      ],
      "text/plain": [
       "<IPython.lib.display.IFrame at 0x26644a21dc0>"
      ]
     },
     "metadata": {},
     "output_type": "display_data"
    }
   ],
   "source": [
    "if __name__ == '__main__':\n",
    "    app.run_server(debug=True)"
   ]
  },
  {
   "cell_type": "code",
   "execution_count": null,
   "id": "8ae72778-01f7-4f86-b27b-db669b12bf6f",
   "metadata": {},
   "outputs": [],
   "source": [
    "# Define a function to fetch stock data\n",
    "def fetch_data(ticker):\n",
    "    stock_data = yf.download(ticker, period=\"1d\", interval=\"2m\")\n",
    "    return stock_data\n"
   ]
  },
  {
   "cell_type": "code",
   "execution_count": null,
   "id": "1b24f945-6d79-412c-8d19-755394eb3e36",
   "metadata": {},
   "outputs": [],
   "source": []
  }
 ],
 "metadata": {
  "kernelspec": {
   "display_name": "Python 3 (ipykernel)",
   "language": "python",
   "name": "python3"
  },
  "language_info": {
   "codemirror_mode": {
    "name": "ipython",
    "version": 3
   },
   "file_extension": ".py",
   "mimetype": "text/x-python",
   "name": "python",
   "nbconvert_exporter": "python",
   "pygments_lexer": "ipython3",
   "version": "3.8.19"
  }
 },
 "nbformat": 4,
 "nbformat_minor": 5
}
