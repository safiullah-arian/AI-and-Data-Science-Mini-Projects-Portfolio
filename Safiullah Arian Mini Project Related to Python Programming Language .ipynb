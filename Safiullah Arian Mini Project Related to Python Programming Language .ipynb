{
 "cells": [
  {
   "cell_type": "code",
   "execution_count": 1,
   "id": "93050d26-7c49-4d05-bb89-ba313a5a9004",
   "metadata": {},
   "outputs": [],
   "source": [
    "import random"
   ]
  },
  {
   "cell_type": "code",
   "execution_count": 2,
   "id": "62635f61-db5a-4be8-94b7-8aada847571f",
   "metadata": {},
   "outputs": [],
   "source": [
    "# Define a dictionary with questions and a list of possible responses\n",
    "responses = {\n",
    "    \"hi\": [\"Hello! How can I help you today?\", \"Hi there! What's up?\", \"Hey! Nice to chat with you!\"],\n",
    "    \"how are you?\": [\"I'm just a program, but I'm feeling great! How about you?\", \n",
    "                     \"Doing well, thank you! What about you?\", \n",
    "                     \"I'm fine, thanks for asking!\"],\n",
    "    \"are you working?\": [\"Always! What can I do for you?\", \n",
    "                         \"Yep, I'm here to help you with anything!\", \n",
    "                         \"Of course! What's on your mind?\"],\n",
    "    \"what is your name?\": [\"I’m ChatBot, your virtual assistant!\", \n",
    "                           \"They call me ChatBot! What's yours?\", \n",
    "                           \"I'm ChatBot. Nice to meet you!\"],\n",
    "    \"what did you do yesterday?\": [\"I answered some interesting questions!\", \n",
    "                                   \"I learned a bit more about humans!\", \n",
    "                                   \"Processed a lot of data. It was fun!\"],\n",
    "    \"quit\": [\"Goodbye! Have a wonderful day!\", \"See you later! Take care!\", \"Bye! Hope to talk to you soon!\"],\n",
    "}\n"
   ]
  },
  {
   "cell_type": "code",
   "execution_count": 3,
   "id": "0ec2574f-24a9-4809-b7a0-25e3ea6a900d",
   "metadata": {},
   "outputs": [],
   "source": [
    "# Small talk responses for unrecognized input\n",
    "small_talk = [\n",
    "    \"That's interesting! Tell me more.\",\n",
    "    \"I'm not sure I understand, but it sounds cool!\",\n",
    "    \"Could you rephrase that? I want to help!\",\n",
    "    \"Hmm, I haven't heard that before. What does it mean?\",\n",
    "]"
   ]
  },
  {
   "cell_type": "code",
   "execution_count": 4,
   "id": "4f9c8e1d-ad1c-4a3c-89ad-aff24fbd37d5",
   "metadata": {},
   "outputs": [
    {
     "name": "stdout",
     "output_type": "stream",
     "text": [
      "Welcome to ChatBot!\n",
      "You can chat with me. Try asking:\n",
      "- Hi\n",
      "- How are you?\n",
      "- Are you working?\n",
      "- What is your name?\n",
      "- What did you do yesterday?\n",
      "- Quit\n"
     ]
    }
   ],
   "source": [
    "# Introduction\n",
    "print(\"Welcome to ChatBot!\")\n",
    "print(\"You can chat with me. Try asking:\")\n",
    "for question in responses.keys():\n",
    "    print(f\"- {question.capitalize()}\")"
   ]
  },
  {
   "cell_type": "code",
   "execution_count": null,
   "id": "3cf0f01e-8785-4726-b2ac-f76f6cb27c44",
   "metadata": {},
   "outputs": [
    {
     "name": "stdin",
     "output_type": "stream",
     "text": [
      "\n",
      "You:  aRIAN\n"
     ]
    },
    {
     "name": "stdout",
     "output_type": "stream",
     "text": [
      "ChatBot: That's interesting! Tell me more.\n"
     ]
    },
    {
     "name": "stdin",
     "output_type": "stream",
     "text": [
      "\n",
      "You:  WHAT\n"
     ]
    },
    {
     "name": "stdout",
     "output_type": "stream",
     "text": [
      "ChatBot: Hmm, I haven't heard that before. What does it mean?\n"
     ]
    },
    {
     "name": "stdin",
     "output_type": "stream",
     "text": [
      "\n",
      "You:  KI\n"
     ]
    },
    {
     "name": "stdout",
     "output_type": "stream",
     "text": [
      "ChatBot: Could you rephrase that? I want to help!\n"
     ]
    },
    {
     "name": "stdin",
     "output_type": "stream",
     "text": [
      "\n",
      "You:  HI\n"
     ]
    },
    {
     "name": "stdout",
     "output_type": "stream",
     "text": [
      "ChatBot: Hey! Nice to chat with you!\n"
     ]
    }
   ],
   "source": [
    "# Chat loop\n",
    "while True:\n",
    "    # Get user input\n",
    "    user_input = input(\"\\nYou: \").strip().lower()\n",
    "    \n",
    "    # Check if input exists in the dictionary\n",
    "    if user_input in responses:\n",
    "        # Respond with a random choice from the possible responses\n",
    "        bot_response = random.choice(responses[user_input])\n",
    "        print(f\"ChatBot: {bot_response}\")\n",
    "        if user_input == \"quit\":\n",
    "            break  # Exit the loop if the user says 'quit'\n",
    "    else:\n",
    "        # Respond with a random small talk message\n",
    "        bot_response = random.choice(small_talk)\n",
    "        print(f\"ChatBot: {bot_response}\")\n"
   ]
  }
 ],
 "metadata": {
  "kernelspec": {
   "display_name": "Python 3 (ipykernel)",
   "language": "python",
   "name": "python3"
  },
  "language_info": {
   "codemirror_mode": {
    "name": "ipython",
    "version": 3
   },
   "file_extension": ".py",
   "mimetype": "text/x-python",
   "name": "python",
   "nbconvert_exporter": "python",
   "pygments_lexer": "ipython3",
   "version": "3.8.19"
  }
 },
 "nbformat": 4,
 "nbformat_minor": 5
}
