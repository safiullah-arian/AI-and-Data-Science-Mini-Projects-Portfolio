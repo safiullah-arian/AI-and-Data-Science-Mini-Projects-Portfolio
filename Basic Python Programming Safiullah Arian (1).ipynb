{
 "cells": [
  {
   "cell_type": "code",
   "execution_count": 1,
   "id": "14b646e6-7432-4730-a7a2-f4f9514fa511",
   "metadata": {},
   "outputs": [],
   "source": [
    "import pandas as pd\n"
   ]
  },
  {
   "cell_type": "code",
   "execution_count": 2,
   "id": "373d1a46-9750-4718-9814-2b5a3ec514cd",
   "metadata": {},
   "outputs": [],
   "source": [
    "# Load the dataset\n",
    "df = pd.read_csv('train.csv')\n"
   ]
  },
  {
   "cell_type": "code",
   "execution_count": 3,
   "id": "7949a8fd-1f55-4551-a234-cb7d26f02393",
   "metadata": {},
   "outputs": [
    {
     "name": "stdout",
     "output_type": "stream",
     "text": [
      "PassengerId      0\n",
      "Survived         0\n",
      "Pclass           0\n",
      "Name             0\n",
      "Sex              0\n",
      "Age            177\n",
      "SibSp            0\n",
      "Parch            0\n",
      "Ticket           0\n",
      "Fare             0\n",
      "Cabin          687\n",
      "Embarked         2\n",
      "dtype: int64\n"
     ]
    }
   ],
   "source": [
    "# Check for missing values\n",
    "print(df.isnull().sum())"
   ]
  },
  {
   "cell_type": "code",
   "execution_count": 4,
   "id": "dec76f26-0b05-44e6-b893-eb90072b7c70",
   "metadata": {},
   "outputs": [],
   "source": [
    "# Fill missing values for 'Age' with the median value\n",
    "df['Age'].fillna(df['Age'].median(), inplace=True)"
   ]
  },
  {
   "cell_type": "code",
   "execution_count": 5,
   "id": "5773012b-1ceb-40c2-a2b1-a5c01e0fb905",
   "metadata": {},
   "outputs": [
    {
     "name": "stdout",
     "output_type": "stream",
     "text": [
      "PassengerId      0\n",
      "Survived         0\n",
      "Pclass           0\n",
      "Name             0\n",
      "Sex              0\n",
      "Age              0\n",
      "SibSp            0\n",
      "Parch            0\n",
      "Ticket           0\n",
      "Fare             0\n",
      "Cabin          687\n",
      "Embarked         2\n",
      "dtype: int64\n"
     ]
    }
   ],
   "source": [
    "# Check for missing values\n",
    "print(df.isnull().sum())"
   ]
  },
  {
   "cell_type": "code",
   "execution_count": 6,
   "id": "65f5bdeb-0f56-4a1e-84b3-e39802f7e2bd",
   "metadata": {},
   "outputs": [],
   "source": [
    "# Fill missing values for 'Embarked' with the most common value\n",
    "df['Embarked'].fillna(df['Embarked'].mode()[0], inplace=True)"
   ]
  },
  {
   "cell_type": "code",
   "execution_count": 7,
   "id": "fd106740-48e0-4422-bcfd-8bcc3cfbd0ea",
   "metadata": {},
   "outputs": [
    {
     "name": "stdout",
     "output_type": "stream",
     "text": [
      "PassengerId      0\n",
      "Survived         0\n",
      "Pclass           0\n",
      "Name             0\n",
      "Sex              0\n",
      "Age              0\n",
      "SibSp            0\n",
      "Parch            0\n",
      "Ticket           0\n",
      "Fare             0\n",
      "Cabin          687\n",
      "Embarked         0\n",
      "dtype: int64\n"
     ]
    }
   ],
   "source": [
    "# Check for missing values\n",
    "print(df.isnull().sum())"
   ]
  },
  {
   "cell_type": "code",
   "execution_count": 8,
   "id": "fc83eec0-4434-49c2-babd-cee276f2854b",
   "metadata": {},
   "outputs": [],
   "source": [
    "# Drop rows with missing 'Cabin' \n",
    "df.drop(columns=['Cabin'], inplace=True)\n"
   ]
  },
  {
   "cell_type": "markdown",
   "id": "2077b7fc-0865-472a-af9b-362a5f025222",
   "metadata": {},
   "source": [
    "#Create New Columns"
   ]
  },
  {
   "cell_type": "code",
   "execution_count": 9,
   "id": "3f8768eb-b6d0-4364-84e2-0bdd2471d3c7",
   "metadata": {},
   "outputs": [],
   "source": [
    "# Create a new column 'FamilySize' based on 'SibSp' and 'Parch'\n",
    "df['FamilySize'] = df['SibSp'] + df['Parch'] + 1\n"
   ]
  },
  {
   "cell_type": "code",
   "execution_count": 10,
   "id": "6e43cdae-b57d-4833-a9a4-4ca7c2b147ea",
   "metadata": {},
   "outputs": [],
   "source": [
    "# Create Age categories\n",
    "df['AgeCategory'] = pd.cut(df['Age'], bins=[0, 12, 18, 35, 60, 100], labels=['Child', 'Teen', 'Adult', 'Middle Age', 'Senior'])"
   ]
  },
  {
   "cell_type": "markdown",
   "id": "cb567c0e-586f-4147-9caa-d4ef6beaf722",
   "metadata": {},
   "source": [
    "Filter Data"
   ]
  },
  {
   "cell_type": "code",
   "execution_count": 11,
   "id": "06528b4d-89e0-48ec-b7ab-49aa045fcf88",
   "metadata": {},
   "outputs": [],
   "source": [
    "# Filter passengers who survived\n",
    "survived_df = df[df['Survived'] == 1]"
   ]
  },
  {
   "cell_type": "code",
   "execution_count": 12,
   "id": "ac598932-15f9-4458-96db-2f25ffe659be",
   "metadata": {},
   "outputs": [],
   "source": [
    "# Filter female passengers in first class\n",
    "female_first_class = df[(df['Sex'] == 'female') & (df['Pclass'] == 1)]"
   ]
  },
  {
   "cell_type": "code",
   "execution_count": 13,
   "id": "4d9a7e02-4bfb-41bc-a829-969942f48587",
   "metadata": {},
   "outputs": [],
   "source": [
    "# Filter passengers based on Age category 'Adult'\n",
    "adults_df = df[df['AgeCategory'] == 'Adult']"
   ]
  },
  {
   "cell_type": "code",
   "execution_count": 14,
   "id": "7c451108-5ba4-4035-bc63-17c4a033ad25",
   "metadata": {},
   "outputs": [
    {
     "name": "stdout",
     "output_type": "stream",
     "text": [
      "   PassengerId  Survived  Pclass  \\\n",
      "0            1         0       3   \n",
      "1            2         1       1   \n",
      "2            3         1       3   \n",
      "3            4         1       1   \n",
      "4            5         0       3   \n",
      "\n",
      "                                                Name     Sex   Age  SibSp  \\\n",
      "0                            Braund, Mr. Owen Harris    male  22.0      1   \n",
      "1  Cumings, Mrs. John Bradley (Florence Briggs Th...  female  38.0      1   \n",
      "2                             Heikkinen, Miss. Laina  female  26.0      0   \n",
      "3       Futrelle, Mrs. Jacques Heath (Lily May Peel)  female  35.0      1   \n",
      "4                           Allen, Mr. William Henry    male  35.0      0   \n",
      "\n",
      "   Parch            Ticket     Fare Embarked  FamilySize AgeCategory  \n",
      "0      0         A/5 21171   7.2500        S           2       Adult  \n",
      "1      0          PC 17599  71.2833        C           2  Middle Age  \n",
      "2      0  STON/O2. 3101282   7.9250        S           1       Adult  \n",
      "3      0            113803  53.1000        S           2       Adult  \n",
      "4      0            373450   8.0500        S           1       Adult  \n"
     ]
    }
   ],
   "source": [
    "print(df.head())"
   ]
  },
  {
   "cell_type": "code",
   "execution_count": 15,
   "id": "88622568-22bc-456a-a819-a0eabe5b48f1",
   "metadata": {},
   "outputs": [
    {
     "name": "stdout",
     "output_type": "stream",
     "text": [
      "       PassengerId    Survived      Pclass         Age       SibSp  \\\n",
      "count   891.000000  891.000000  891.000000  891.000000  891.000000   \n",
      "mean    446.000000    0.383838    2.308642   29.361582    0.523008   \n",
      "std     257.353842    0.486592    0.836071   13.019697    1.102743   \n",
      "min       1.000000    0.000000    1.000000    0.420000    0.000000   \n",
      "25%     223.500000    0.000000    2.000000   22.000000    0.000000   \n",
      "50%     446.000000    0.000000    3.000000   28.000000    0.000000   \n",
      "75%     668.500000    1.000000    3.000000   35.000000    1.000000   \n",
      "max     891.000000    1.000000    3.000000   80.000000    8.000000   \n",
      "\n",
      "            Parch        Fare  FamilySize  \n",
      "count  891.000000  891.000000  891.000000  \n",
      "mean     0.381594   32.204208    1.904602  \n",
      "std      0.806057   49.693429    1.613459  \n",
      "min      0.000000    0.000000    1.000000  \n",
      "25%      0.000000    7.910400    1.000000  \n",
      "50%      0.000000   14.454200    1.000000  \n",
      "75%      0.000000   31.000000    2.000000  \n",
      "max      6.000000  512.329200   11.000000  \n"
     ]
    }
   ],
   "source": [
    "print(df.describe())"
   ]
  },
  {
   "cell_type": "markdown",
   "id": "eed227e2-c218-464f-b893-cda38e8ff573",
   "metadata": {},
   "source": [
    "\n",
    "Visualize the Dataset"
   ]
  },
  {
   "cell_type": "code",
   "execution_count": null,
   "id": "695fab0f-149f-404e-aba1-bb401a757299",
   "metadata": {},
   "outputs": [],
   "source": []
  },
  {
   "cell_type": "code",
   "execution_count": 16,
   "id": "af9e339e-0bf3-45c1-9317-9b6f57fd3ade",
   "metadata": {},
   "outputs": [],
   "source": [
    "import matplotlib.pyplot as plt"
   ]
  },
  {
   "cell_type": "code",
   "execution_count": 17,
   "id": "52d7dd6a-4d18-4e4f-b6db-63efef6239eb",
   "metadata": {},
   "outputs": [],
   "source": [
    "# Calculate survival rate by gender\n",
    "survival_by_gender = df.groupby('Sex')['Survived'].mean()"
   ]
  },
  {
   "cell_type": "code",
   "execution_count": 18,
   "id": "6cb4088b-5805-47fd-89da-598c5534f422",
   "metadata": {},
   "outputs": [
    {
     "data": {
      "image/png": "[encoded data removed]",
      "text/plain": [
       "<Figure size 640x480 with 1 Axes>"
      ]
     },
     "metadata": {},
     "output_type": "display_data"
    }
   ],
   "source": [
    "# Plot\n",
    "plt.bar(survival_by_gender.index, survival_by_gender.values, color=['blue', 'Green'])\n",
    "plt.title('Survival Rate by Gender')\n",
    "plt.ylabel('Survival Rate')\n",
    "plt.xlabel('Gender')\n",
    "plt.show()"
   ]
  },
  {
   "cell_type": "markdown",
   "id": "e94d4cd3-3de5-46ca-86df-7c721a8469e4",
   "metadata": {},
   "source": [
    "Histogram of Age Distribution"
   ]
  },
  {
   "cell_type": "code",
   "execution_count": 19,
   "id": "8f59719b-f2c1-490b-8d8b-672b497f2444",
   "metadata": {},
   "outputs": [
    {
     "data": {
      "image/png": "[encoded data removed]",
      "text/plain": [
       "<Figure size 640x480 with 1 Axes>"
      ]
     },
     "metadata": {},
     "output_type": "display_data"
    }
   ],
   "source": [
    "# Plot the histogram for age distribution\n",
    "plt.hist(df['Age'].dropna(), bins=20, color='Blue', edgecolor='black')\n",
    "plt.title('Age Distribution of Passengers')\n",
    "plt.xlabel('Age')\n",
    "plt.ylabel('Count')\n",
    "plt.show()\n"
   ]
  },
  {
   "cell_type": "code",
   "execution_count": 20,
   "id": "82afa280-10a1-45b9-8d84-b57f67019e47",
   "metadata": {},
   "outputs": [],
   "source": [
    "# Calculate survival rate by Age Category\n",
    "survival_by_age_cat = df.groupby('AgeCategory')['Survived'].mean()"
   ]
  },
  {
   "cell_type": "code",
   "execution_count": 21,
   "id": "fdd9186f-79b0-445a-8497-132eedf4dd20",
   "metadata": {},
   "outputs": [
    {
     "data": {
      "image/png": "[encoded data removed]",
      "text/plain": [
       "<Figure size 640x480 with 1 Axes>"
      ]
     },
     "metadata": {},
     "output_type": "display_data"
    }
   ],
   "source": [
    "plt.bar(survival_by_age_cat.index, survival_by_age_cat.values, color='orange', edgecolor='black')\n",
    "plt.title('Survival Rate by Age Category')\n",
    "plt.ylabel('Survival Rate')\n",
    "plt.xlabel('Age Category')\n",
    "plt.xticks(rotation=45)\n",
    "plt.show()\n"
   ]
  },
  {
   "cell_type": "code",
   "execution_count": null,
   "id": "9be8e663-4ac5-4490-a352-6b0c3ae88a75",
   "metadata": {},
   "outputs": [],
   "source": []
  }
 ],
 "metadata": {
  "kernelspec": {
   "display_name": "Python 3 (ipykernel)",
   "language": "python",
   "name": "python3"
  },
  "language_info": {
   "codemirror_mode": {
    "name": "ipython",
    "version": 3
   },
   "file_extension": ".py",
   "mimetype": "text/x-python",
   "name": "python",
   "nbconvert_exporter": "python",
   "pygments_lexer": "ipython3",
   "version": "3.8.19"
  }
 },
 "nbformat": 4,
 "nbformat_minor": 5
}
